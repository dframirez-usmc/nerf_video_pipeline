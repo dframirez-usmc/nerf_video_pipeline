{
 "cells": [
  {
   "attachments": {},
   "cell_type": "markdown",
   "metadata": {},
   "source": [
    "# This is markdown!\n",
    "What else does this notebook do?"
   ]
  },
  {
   "cell_type": "code",
   "execution_count": null,
   "metadata": {},
   "outputs": [],
   "source": [
    "# Imports?"
   ]
  },
  {
   "cell_type": "code",
   "execution_count": null,
   "metadata": {},
   "outputs": [],
   "source": [
    "# Inputs for Problem 1\n",
    "video_path = \"my/full/path/my_video_file.mp4\"\n",
    "nerf_type = 'NeRF-W'"
   ]
  },
  {
   "cell_type": "code",
   "execution_count": null,
   "metadata": {},
   "outputs": [],
   "source": [
    "# Launch Problem 1 script with inputs\n",
    "%run -i Problem_1.py  $video_path -t $nerf_type"
   ]
  },
  {
   "cell_type": "code",
   "execution_count": null,
   "metadata": {},
   "outputs": [],
   "source": [
    "# Set up inputs for Problem 2\n",
    "motion_path = \"my/full/path/my_motion_file.mp4\"\n",
    "model_path = \"my/full/path/my_model_file\""
   ]
  },
  {
   "cell_type": "code",
   "execution_count": null,
   "metadata": {},
   "outputs": [],
   "source": [
    "# Launch Problem 2 script with inputs\n",
    "%run -i Problem_2.py $motion_path -t $model_path"
   ]
  }
 ],
 "metadata": {
  "language_info": {
   "name": "python"
  },
  "orig_nbformat": 4
 },
 "nbformat": 4,
 "nbformat_minor": 2
}
