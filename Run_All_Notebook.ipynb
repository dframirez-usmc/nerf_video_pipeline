{
 "cells": [
  {
   "cell_type": "code",
   "execution_count": 1,
   "metadata": {},
   "outputs": [],
   "source": [
    "# Inputs for Problem 1\n",
    "video_path = \"relative/path/to/my_video.mp4\"\n",
    "nerf_type = \"nerfacto\""
   ]
  },
  {
   "cell_type": "code",
   "execution_count": 2,
   "metadata": {},
   "outputs": [
    {
     "name": "stdout",
     "output_type": "stream",
     "text": [
      "{'video': 'videos/S1013237.MP4', 'nerf_type': 'nerfacto'}\n",
      "Project Full Path: /home/david/Documents/interview_projects/nerf_video_pipeline\n",
      "Cleanup complete for directory: data\n",
      "Video relative path: videos/S1013237.MP4\n",
      "Video new path: /home/david/Documents/interview_projects/nerf_video_pipeline/data/S1013237.MP4\n",
      "WARNING: Step 1 Processing can take 30+ minutes!\n",
      "STEP 1 Video Processing COMPLETE!\n",
      "WARNING: Step 2 Training can take 30+ minutes!\n",
      "Step 2 NeRF Training COMPLETE!\n",
      "Problem 1 script execution complete.\n"
     ]
    }
   ],
   "source": [
    "# Launch Problem 1 script with inputs\n",
    "%run -i Problem_1.py  $video_path -t $nerf_type"
   ]
  },
  {
   "cell_type": "code",
   "execution_count": 3,
   "metadata": {},
   "outputs": [],
   "source": [
    "# Set up inputs for Problem 2\n",
    "model_path = \"relative/path/to/outputs/config.yml\"\n",
    "motion_path = \"relative/path/to/camera_path.json\""
   ]
  },
  {
   "cell_type": "code",
   "execution_count": 4,
   "metadata": {},
   "outputs": [
    {
     "name": "stdout",
     "output_type": "stream",
     "text": [
      "{'config_yml': 'outputs/data/nerfacto/2023-05-14_081004/config.yml', 'motion': 'camera_path.json'}\n",
      "Project Full Path: /home/david/Documents/interview_projects/nerf_video_pipeline\n",
      "Cleanup complete for directory: render\n",
      "WARNING: Step 3 Render can take 30+ minutes!\n",
      "Step 3 Video Render COMPLETE!\n",
      "Problem 2 script execution complete.\n"
     ]
    }
   ],
   "source": [
    "# Launch Problem 2 script with inputs\n",
    "%run -i Problem_2.py $model_path -m $motion_path"
   ]
  }
 ],
 "metadata": {
  "kernelspec": {
   "display_name": "base",
   "language": "python",
   "name": "python3"
  },
  "language_info": {
   "codemirror_mode": {
    "name": "ipython",
    "version": 3
   },
   "file_extension": ".py",
   "mimetype": "text/x-python",
   "name": "python",
   "nbconvert_exporter": "python",
   "pygments_lexer": "ipython3",
   "version": "3.9.10"
  },
  "orig_nbformat": 4
 },
 "nbformat": 4,
 "nbformat_minor": 2
}
